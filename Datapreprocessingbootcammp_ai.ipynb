{
 "cells": [
  {
   "cell_type": "code",
   "execution_count": 1,
   "id": "8bacbdd3-31a3-471b-a1f5-6647da4f2472",
   "metadata": {},
   "outputs": [],
   "source": [
    "import numpy as np\n",
    "import pandas as pd\n",
    "import matplotlib.pyplot as plt\n",
    "import seaborn as sns\n",
    "from sklearn.impute import SimpleImputer\n",
    "from sklearn.model_selection import train_test_split\n",
    "from sklearn.preprocessing import OneHotEncoder, LabelEncoder, MinMaxScaler, StandardScaler\n",
    "from sklearn.compose import ColumnTransformer"
   ]
  },
  {
   "cell_type": "code",
   "execution_count": 3,
   "id": "1f07472a-318a-4860-bc98-9499d78117eb",
   "metadata": {},
   "outputs": [
    {
     "name": "stdout",
     "output_type": "stream",
     "text": [
      "Dataset Head:\n",
      "    Country   Age   Salary Purchased\n",
      "0   France  44.0  72000.0        No\n",
      "1    Spain  27.0  48000.0       Yes\n",
      "2  Germany  30.0  54000.0        No\n",
      "3    Spain  38.0  61000.0        No\n",
      "4  Germany  40.0      NaN       Yes\n"
     ]
    }
   ],
   "source": [
    "df = pd.read_csv(r\"Data.csv\") \n",
    "print(\"Dataset Head:\\n\", df.head())"
   ]
  },
  {
   "cell_type": "code",
   "execution_count": null,
   "id": "c8079982-a4ab-4752-aec3-073174d559a9",
   "metadata": {},
   "outputs": [],
   "source": []
  },
  {
   "cell_type": "code",
   "execution_count": 4,
   "id": "8c73f4c2-98fc-42b5-82fb-70b190f8ef55",
   "metadata": {},
   "outputs": [],
   "source": [
    "##step 3"
   ]
  },
  {
   "cell_type": "code",
   "execution_count": 5,
   "id": "b39c811d-175e-4ada-9f06-1e8a84f125a5",
   "metadata": {},
   "outputs": [
    {
     "name": "stdout",
     "output_type": "stream",
     "text": [
      "After dropping missing values:\n",
      "    Country   Age   Salary Purchased\n",
      "0   France  44.0  72000.0        No\n",
      "1    Spain  27.0  48000.0       Yes\n",
      "2  Germany  30.0  54000.0        No\n",
      "3    Spain  38.0  61000.0        No\n",
      "5   France  35.0  58000.0       Yes\n",
      "7   France  48.0  79000.0       Yes\n",
      "8  Germany  50.0  83000.0        No\n",
      "9   France  37.0  67000.0       Yes\n"
     ]
    }
   ],
   "source": [
    "df_dropna = df.dropna()\n",
    "print(\"After dropping missing values:\\n\", df_dropna)"
   ]
  },
  {
   "cell_type": "code",
   "execution_count": 6,
   "id": "312ca38d-5d20-439d-b625-4f1e555bf41c",
   "metadata": {},
   "outputs": [],
   "source": [
    "X = df.iloc[:, :-1]\n",
    "y = df.iloc[:, -1]   "
   ]
  },
  {
   "cell_type": "code",
   "execution_count": 7,
   "id": "ec18fb54-9d81-4cae-b6ab-ba1178f133ff",
   "metadata": {},
   "outputs": [],
   "source": [
    "ct = ColumnTransformer(transformers=[('encoder', OneHotEncoder(), [0])], remainder='passthrough')\n",
    "X = np.array(ct.fit_transform(X))"
   ]
  },
  {
   "cell_type": "code",
   "execution_count": 8,
   "id": "366054ff-1c38-4de7-bd18-a8a41ffe9399",
   "metadata": {},
   "outputs": [],
   "source": [
    "le = LabelEncoder()\n",
    "y = le.fit_transform(y)"
   ]
  },
  {
   "cell_type": "code",
   "execution_count": 9,
   "id": "6cc14c22-8860-479b-9095-660fb9ab25ec",
   "metadata": {},
   "outputs": [],
   "source": [
    "X_train, X_test, y_train, y_test = train_test_split(X, y, test_size=0.2, random_state=1)"
   ]
  },
  {
   "cell_type": "code",
   "execution_count": 10,
   "id": "28d0537e-c9de-4b3e-a66d-11aa15470124",
   "metadata": {},
   "outputs": [
    {
     "name": "stdout",
     "output_type": "stream",
     "text": [
      "X_train:\n",
      " [[0.0e+00 0.0e+00 1.0e+00     nan 5.2e+04]\n",
      " [0.0e+00 1.0e+00 0.0e+00 4.0e+01     nan]\n",
      " [1.0e+00 0.0e+00 0.0e+00 4.4e+01 7.2e+04]\n",
      " [0.0e+00 0.0e+00 1.0e+00 3.8e+01 6.1e+04]\n",
      " [0.0e+00 0.0e+00 1.0e+00 2.7e+01 4.8e+04]\n",
      " [1.0e+00 0.0e+00 0.0e+00 4.8e+01 7.9e+04]\n",
      " [0.0e+00 1.0e+00 0.0e+00 5.0e+01 8.3e+04]\n",
      " [1.0e+00 0.0e+00 0.0e+00 3.5e+01 5.8e+04]]\n"
     ]
    }
   ],
   "source": [
    "print(\"X_train:\\n\", X_train)"
   ]
  },
  {
   "cell_type": "code",
   "execution_count": 11,
   "id": "815d153e-953a-4ed0-b454-dccb31a557cd",
   "metadata": {},
   "outputs": [
    {
     "name": "stdout",
     "output_type": "stream",
     "text": [
      "X_test:\n",
      " [[0.0e+00 1.0e+00 0.0e+00 3.0e+01 5.4e+04]\n",
      " [1.0e+00 0.0e+00 0.0e+00 3.7e+01 6.7e+04]]\n"
     ]
    }
   ],
   "source": [
    "print(\"X_test:\\n\", X_test)"
   ]
  },
  {
   "cell_type": "code",
   "execution_count": 12,
   "id": "9951963d-74af-47c0-ac77-cfc213bdf6de",
   "metadata": {},
   "outputs": [
    {
     "name": "stdout",
     "output_type": "stream",
     "text": [
      "y_train:\n",
      " [0 1 0 0 1 1 0 1]\n"
     ]
    }
   ],
   "source": [
    "print(\"y_train:\\n\", y_train)"
   ]
  },
  {
   "cell_type": "code",
   "execution_count": 13,
   "id": "5beb5b94-f1d7-460b-905d-b85c1d6b57ee",
   "metadata": {},
   "outputs": [
    {
     "name": "stdout",
     "output_type": "stream",
     "text": [
      "y_test:\n",
      " [0 1]\n"
     ]
    }
   ],
   "source": [
    "print(\"y_test:\\n\", y_test)"
   ]
  },
  {
   "cell_type": "code",
   "execution_count": 15,
   "id": "9d62c2ed-d765-45d4-8133-6c88b96084a1",
   "metadata": {},
   "outputs": [
    {
     "name": "stdout",
     "output_type": "stream",
     "text": [
      "X_train after MinMax Scaling:\n",
      " [[0.         0.         1.                nan 0.11428571]\n",
      " [0.         1.         0.         0.56521739        nan]\n",
      " [1.         0.         0.         0.73913043 0.68571429]\n",
      " [0.         0.         1.         0.47826087 0.37142857]\n",
      " [0.         0.         1.         0.         0.        ]\n",
      " [1.         0.         0.         0.91304348 0.88571429]\n",
      " [0.         1.         0.         1.         1.        ]\n",
      " [1.         0.         0.         0.34782609 0.28571429]]\n"
     ]
    }
   ],
   "source": [
    "mm_scaler = MinMaxScaler()\n",
    "X_train_mm = X_train.copy()\n",
    "X_test_mm = X_test.copy()\n",
    "X_train_mm[:, -2:] = mm_scaler.fit_transform(X_train_mm[:, -2:])\n",
    "X_test_mm[:, -2:] = mm_scaler.transform(X_test_mm[:, -2:])\n",
    "print(\"X_train after MinMax Scaling:\\n\", X_train_mm)"
   ]
  },
  {
   "cell_type": "code",
   "execution_count": 16,
   "id": "d36292aa-e182-4c23-ac09-c0c7b4acd99f",
   "metadata": {},
   "outputs": [
    {
     "name": "stdout",
     "output_type": "stream",
     "text": [
      "X_train after Standard Scaling:\n",
      " [[ 0.          0.          1.                 nan -1.018224  ]\n",
      " [ 0.          1.          0.         -0.03891021         nan]\n",
      " [ 1.          0.          0.          0.50583275  0.58347667]\n",
      " [ 0.          0.          1.         -0.31128169 -0.2974587 ]\n",
      " [ 0.          0.          1.         -1.80932482 -1.33856413]\n",
      " [ 1.          0.          0.          1.0505757   1.1440719 ]\n",
      " [ 0.          1.          0.          1.32294718  1.46441204]\n",
      " [ 1.          0.          0.         -0.71983891 -0.5377138 ]]\n"
     ]
    }
   ],
   "source": [
    "std_scaler = StandardScaler()\n",
    "X_train_std = X_train.copy()\n",
    "X_test_std = X_test.copy()\n",
    "X_train_std[:, -2:] = std_scaler.fit_transform(X_train_std[:, -2:])\n",
    "X_test_std[:, -2:] = std_scaler.transform(X_test_std[:, -2:])\n",
    "print(\"X_train after Standard Scaling:\\n\", X_train_std)"
   ]
  },
  {
   "cell_type": "code",
   "execution_count": 17,
   "id": "4e58c8d7-deb4-499c-944b-f49f22422301",
   "metadata": {},
   "outputs": [
    {
     "name": "stdout",
     "output_type": "stream",
     "text": [
      "Final Preprocessed Data:\n",
      "Training Data (MinMax Scaled):\n",
      " [[0.         0.         1.                nan 0.11428571]\n",
      " [0.         1.         0.         0.56521739        nan]\n",
      " [1.         0.         0.         0.73913043 0.68571429]\n",
      " [0.         0.         1.         0.47826087 0.37142857]\n",
      " [0.         0.         1.         0.         0.        ]\n",
      " [1.         0.         0.         0.91304348 0.88571429]\n",
      " [0.         1.         0.         1.         1.        ]\n",
      " [1.         0.         0.         0.34782609 0.28571429]]\n",
      "Training Data (Standard Scaled):\n",
      " [[ 0.          0.          1.                 nan -1.018224  ]\n",
      " [ 0.          1.          0.         -0.03891021         nan]\n",
      " [ 1.          0.          0.          0.50583275  0.58347667]\n",
      " [ 0.          0.          1.         -0.31128169 -0.2974587 ]\n",
      " [ 0.          0.          1.         -1.80932482 -1.33856413]\n",
      " [ 1.          0.          0.          1.0505757   1.1440719 ]\n",
      " [ 0.          1.          0.          1.32294718  1.46441204]\n",
      " [ 1.          0.          0.         -0.71983891 -0.5377138 ]]\n"
     ]
    }
   ],
   "source": [
    "print(\"Final Preprocessed Data:\")\n",
    "print(\"Training Data (MinMax Scaled):\\n\", X_train_mm)\n",
    "print(\"Training Data (Standard Scaled):\\n\", X_train_std)"
   ]
  },
  {
   "cell_type": "code",
   "execution_count": 20,
   "id": "510efd6b-4c43-4397-bba0-5aab6bd92324",
   "metadata": {},
   "outputs": [],
   "source": [
    "pd.DataFrame(X_train_mm).to_csv('X_train_minmax.csv', index=False)\n"
   ]
  },
  {
   "cell_type": "code",
   "execution_count": 21,
   "id": "b55471e9-7d85-47de-b4ee-fd9fd4617999",
   "metadata": {},
   "outputs": [],
   "source": [
    "pd.DataFrame(X_test_mm).to_csv('X_test_minmax.csv', index=False)"
   ]
  },
  {
   "cell_type": "code",
   "execution_count": 23,
   "id": "2a30dd57-41d1-48a1-ac72-6bebba8f8319",
   "metadata": {},
   "outputs": [],
   "source": [
    "pd.DataFrame(X_train_std).to_csv('X_train_standard.csv', index=False)\n",
    "pd.DataFrame(X_test_std).to_csv('X_test_standard.csv', index=False)"
   ]
  },
  {
   "cell_type": "code",
   "execution_count": 1,
   "id": "7829346a-d5e8-44b5-9d4e-c99d1ee73ba5",
   "metadata": {},
   "outputs": [
    {
     "name": "stdout",
     "output_type": "stream",
     "text": [
      "Preprocessed data saved to CSV files named final.\n"
     ]
    }
   ],
   "source": [
    "print(\"Preprocessed data saved to CSV files named final.\")"
   ]
  },
  {
   "cell_type": "code",
   "execution_count": null,
   "id": "5a000034-9846-4001-b57d-e759fa1ffd09",
   "metadata": {},
   "outputs": [],
   "source": []
  }
 ],
 "metadata": {
  "kernelspec": {
   "display_name": "Python 3 (ipykernel)",
   "language": "python",
   "name": "python3"
  },
  "language_info": {
   "codemirror_mode": {
    "name": "ipython",
    "version": 3
   },
   "file_extension": ".py",
   "mimetype": "text/x-python",
   "name": "python",
   "nbconvert_exporter": "python",
   "pygments_lexer": "ipython3",
   "version": "3.12.6"
  }
 },
 "nbformat": 4,
 "nbformat_minor": 5
}
